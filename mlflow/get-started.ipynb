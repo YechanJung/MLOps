{
 "cells": [
  {
   "cell_type": "markdown",
   "metadata": {},
   "source": [
    "## MLFLow Tracking Server"
   ]
  },
  {
   "cell_type": "code",
   "execution_count": 12,
   "metadata": {},
   "outputs": [],
   "source": [
    "import mlflow"
   ]
  },
  {
   "cell_type": "code",
   "execution_count": 17,
   "metadata": {},
   "outputs": [],
   "source": [
    "mlflow.set_tracking_uri(\"http://127.0.0.1:5000\")\n",
    "\n"
   ]
  },
  {
   "cell_type": "code",
   "execution_count": 19,
   "metadata": {},
   "outputs": [
    {
     "name": "stdout",
     "output_type": "stream",
     "text": [
      "[2024-12-05 18:19:17 +0900] [14455] [INFO] Starting gunicorn 23.0.0\n",
      "[2024-12-05 18:19:17 +0900] [14455] [ERROR] Connection in use: ('127.0.0.1', 5000)\n",
      "[2024-12-05 18:19:17 +0900] [14455] [ERROR] connection to ('127.0.0.1', 5000) failed: [Errno 48] Address already in use\n",
      "[2024-12-05 18:19:18 +0900] [14455] [ERROR] Connection in use: ('127.0.0.1', 5000)\n",
      "[2024-12-05 18:19:18 +0900] [14455] [ERROR] connection to ('127.0.0.1', 5000) failed: [Errno 48] Address already in use\n",
      "[2024-12-05 18:19:19 +0900] [14455] [ERROR] Connection in use: ('127.0.0.1', 5000)\n",
      "[2024-12-05 18:19:19 +0900] [14455] [ERROR] connection to ('127.0.0.1', 5000) failed: [Errno 48] Address already in use\n",
      "[2024-12-05 18:19:20 +0900] [14455] [ERROR] Connection in use: ('127.0.0.1', 5000)\n",
      "[2024-12-05 18:19:20 +0900] [14455] [ERROR] connection to ('127.0.0.1', 5000) failed: [Errno 48] Address already in use\n",
      "[2024-12-05 18:19:21 +0900] [14455] [ERROR] Connection in use: ('127.0.0.1', 5000)\n",
      "[2024-12-05 18:19:21 +0900] [14455] [ERROR] connection to ('127.0.0.1', 5000) failed: [Errno 48] Address already in use\n",
      "[2024-12-05 18:19:22 +0900] [14455] [ERROR] Can't connect to ('127.0.0.1', 5000)\n",
      "Running the mlflow server failed. Please see the logs above for details.\n"
     ]
    }
   ],
   "source": [
    "# !mlflow ui"
   ]
  },
  {
   "cell_type": "code",
   "execution_count": 20,
   "metadata": {},
   "outputs": [
    {
     "name": "stderr",
     "output_type": "stream",
     "text": [
      "2024/12/05 18:37:06 INFO mlflow.tracking.fluent: Experiment with name 'Check localhost connection' does not exist. Creating a new experiment.\n"
     ]
    },
    {
     "name": "stdout",
     "output_type": "stream",
     "text": [
      "🏃 View run burly-ram-677 at: http://127.0.0.1:5000/#/experiments/348895520018697980/runs/31855e31d9f3482681f3da1c945819e9\n",
      "🧪 View experiment at: http://127.0.0.1:5000/#/experiments/348895520018697980\n"
     ]
    }
   ],
   "source": [
    "mlflow.set_experiment(\"Check localhost connection\")\n",
    "\n",
    "with mlflow.start_run():\n",
    "    mlflow.log_metric(\"test\",1)\n",
    "    mlflow.log_metric(\"Krish\",2)"
   ]
  },
  {
   "cell_type": "code",
   "execution_count": 21,
   "metadata": {},
   "outputs": [
    {
     "name": "stdout",
     "output_type": "stream",
     "text": [
      "🏃 View run luxuriant-trout-780 at: http://127.0.0.1:5000/#/experiments/348895520018697980/runs/0b6e19d67f9f4905b79b1404f138a594\n",
      "🧪 View experiment at: http://127.0.0.1:5000/#/experiments/348895520018697980\n"
     ]
    }
   ],
   "source": [
    "with mlflow.start_run():\n",
    "    mlflow.log_metric(\"test1\",1)\n",
    "    mlflow.log_metric(\"Krish1\",2)"
   ]
  },
  {
   "cell_type": "code",
   "execution_count": 22,
   "metadata": {},
   "outputs": [
    {
     "name": "stdout",
     "output_type": "stream",
     "text": [
      "🏃 View run sassy-fowl-612 at: http://127.0.0.1:5000/#/experiments/348895520018697980/runs/5834ba1c037d4ceb94ba803e071cd726\n",
      "🧪 View experiment at: http://127.0.0.1:5000/#/experiments/348895520018697980\n"
     ]
    }
   ],
   "source": [
    "with mlflow.start_run():\n",
    "    mlflow.log_metric(\"test2\",1)\n",
    "    mlflow.log_metric(\"Krish2\",2)"
   ]
  },
  {
   "cell_type": "code",
   "execution_count": null,
   "metadata": {},
   "outputs": [],
   "source": []
  }
 ],
 "metadata": {
  "kernelspec": {
   "display_name": "Python 3",
   "language": "python",
   "name": "python3"
  },
  "language_info": {
   "codemirror_mode": {
    "name": "ipython",
    "version": 3
   },
   "file_extension": ".py",
   "mimetype": "text/x-python",
   "name": "python",
   "nbconvert_exporter": "python",
   "pygments_lexer": "ipython3",
   "version": "3.9.20"
  }
 },
 "nbformat": 4,
 "nbformat_minor": 2
}
